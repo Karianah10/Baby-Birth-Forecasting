{
  "nbformat": 4,
  "nbformat_minor": 0,
  "metadata": {
    "colab": {
      "provenance": []
    },
    "kernelspec": {
      "name": "python3",
      "display_name": "Python 3"
    },
    "language_info": {
      "name": "python"
    }
  },
  "cells": [
    {
      "cell_type": "markdown",
      "source": [
        "# Data Acquisition"
      ],
      "metadata": {
        "id": "CpaKAFBOBr4W"
      }
    },
    {
      "cell_type": "code",
      "execution_count": null,
      "metadata": {
        "id": "76UvWQgb8_0s"
      },
      "outputs": [],
      "source": [
        "from google.colab import files\n",
        "files.upload()"
      ]
    },
    {
      "cell_type": "markdown",
      "source": [
        "# Data Understanding"
      ],
      "metadata": {
        "id": "gSwitl3aB4eg"
      }
    },
    {
      "cell_type": "markdown",
      "source": [
        "Import Library"
      ],
      "metadata": {
        "id": "FjTUFGGZCG4v"
      }
    },
    {
      "cell_type": "code",
      "source": [
        "import numpy as np\n",
        "import pandas as pd"
      ],
      "metadata": {
        "id": "GU6J5MrDCGD0"
      },
      "execution_count": null,
      "outputs": []
    },
    {
      "cell_type": "markdown",
      "source": [
        "Load Data"
      ],
      "metadata": {
        "id": "Y_MKksg6C77G"
      }
    },
    {
      "cell_type": "code",
      "source": [
        "data = pd.read_csv('Baby Birth Predict.csv')\n",
        "data"
      ],
      "metadata": {
        "id": "bsnzBTFRC7Ro"
      },
      "execution_count": null,
      "outputs": []
    },
    {
      "cell_type": "code",
      "source": [
        "data.info()"
      ],
      "metadata": {
        "colab": {
          "base_uri": "https://localhost:8080/"
        },
        "id": "1_QpX6LNI6Fj",
        "outputId": "70064d38-deac-49a8-e9e2-4b7aa8f11b80"
      },
      "execution_count": null,
      "outputs": [
        {
          "output_type": "stream",
          "name": "stdout",
          "text": [
            "<class 'pandas.core.frame.DataFrame'>\n",
            "RangeIndex: 68 entries, 0 to 67\n",
            "Data columns (total 4 columns):\n",
            " #   Column                 Non-Null Count  Dtype  \n",
            "---  ------                 --------------  -----  \n",
            " 0   Bulan                  68 non-null     int64  \n",
            " 1    Tahun                 68 non-null     int64  \n",
            " 2    Provinsi              68 non-null     int64  \n",
            " 3   Jumlah Kelahiran Bayi  67 non-null     float64\n",
            "dtypes: float64(1), int64(3)\n",
            "memory usage: 2.2 KB\n"
          ]
        }
      ]
    },
    {
      "cell_type": "code",
      "source": [
        "data.isnull().sum()"
      ],
      "metadata": {
        "colab": {
          "base_uri": "https://localhost:8080/"
        },
        "id": "6twX1zFEI6JW",
        "outputId": "ecba4de1-7bd9-4808-9cc5-d12d2023f830"
      },
      "execution_count": null,
      "outputs": [
        {
          "output_type": "execute_result",
          "data": {
            "text/plain": [
              "Bulan                    0\n",
              " Tahun                   0\n",
              " Provinsi                0\n",
              "Jumlah Kelahiran Bayi    1\n",
              "dtype: int64"
            ]
          },
          "metadata": {},
          "execution_count": 9
        }
      ]
    },
    {
      "cell_type": "markdown",
      "source": [
        "# Data Preparation"
      ],
      "metadata": {
        "id": "ZhjZMsyEe4Q5"
      }
    },
    {
      "cell_type": "markdown",
      "source": [
        "Data Imputation "
      ],
      "metadata": {
        "id": "NRBzkazqfK2O"
      }
    },
    {
      "cell_type": "code",
      "source": [
        "data ['Jumlah Kelahiran Bayi'] = data ['Jumlah Kelahiran Bayi'].fillna((data['Jumlah Kelahiran Bayi'].median()))\n",
        "data"
      ],
      "metadata": {
        "colab": {
          "base_uri": "https://localhost:8080/",
          "height": 424
        },
        "id": "90mbxN3mROzE",
        "outputId": "268e8672-a0aa-40e1-c8cc-633654aa0eec"
      },
      "execution_count": null,
      "outputs": [
        {
          "output_type": "execute_result",
          "data": {
            "text/plain": [
              "    Bulan   Tahun   Provinsi  Jumlah Kelahiran Bayi\n",
              "0       1    2012          1                   25.0\n",
              "1       1    2012          2                   32.0\n",
              "2       1    2012          3                   26.0\n",
              "3       1    2012          4                   42.0\n",
              "4       1    2012          5                   75.0\n",
              "..    ...     ...        ...                    ...\n",
              "63      1    2017         30                   46.0\n",
              "64      1    2017         31                   51.0\n",
              "65      1    2017         32                   57.0\n",
              "66      1    2017         33                   39.0\n",
              "67      1    2017         34                   65.0\n",
              "\n",
              "[68 rows x 4 columns]"
            ],
            "text/html": [
              "\n",
              "  <div id=\"df-92448b5a-0435-43b4-9188-9216d080910f\">\n",
              "    <div class=\"colab-df-container\">\n",
              "      <div>\n",
              "<style scoped>\n",
              "    .dataframe tbody tr th:only-of-type {\n",
              "        vertical-align: middle;\n",
              "    }\n",
              "\n",
              "    .dataframe tbody tr th {\n",
              "        vertical-align: top;\n",
              "    }\n",
              "\n",
              "    .dataframe thead th {\n",
              "        text-align: right;\n",
              "    }\n",
              "</style>\n",
              "<table border=\"1\" class=\"dataframe\">\n",
              "  <thead>\n",
              "    <tr style=\"text-align: right;\">\n",
              "      <th></th>\n",
              "      <th>Bulan</th>\n",
              "      <th>Tahun</th>\n",
              "      <th>Provinsi</th>\n",
              "      <th>Jumlah Kelahiran Bayi</th>\n",
              "    </tr>\n",
              "  </thead>\n",
              "  <tbody>\n",
              "    <tr>\n",
              "      <th>0</th>\n",
              "      <td>1</td>\n",
              "      <td>2012</td>\n",
              "      <td>1</td>\n",
              "      <td>25.0</td>\n",
              "    </tr>\n",
              "    <tr>\n",
              "      <th>1</th>\n",
              "      <td>1</td>\n",
              "      <td>2012</td>\n",
              "      <td>2</td>\n",
              "      <td>32.0</td>\n",
              "    </tr>\n",
              "    <tr>\n",
              "      <th>2</th>\n",
              "      <td>1</td>\n",
              "      <td>2012</td>\n",
              "      <td>3</td>\n",
              "      <td>26.0</td>\n",
              "    </tr>\n",
              "    <tr>\n",
              "      <th>3</th>\n",
              "      <td>1</td>\n",
              "      <td>2012</td>\n",
              "      <td>4</td>\n",
              "      <td>42.0</td>\n",
              "    </tr>\n",
              "    <tr>\n",
              "      <th>4</th>\n",
              "      <td>1</td>\n",
              "      <td>2012</td>\n",
              "      <td>5</td>\n",
              "      <td>75.0</td>\n",
              "    </tr>\n",
              "    <tr>\n",
              "      <th>...</th>\n",
              "      <td>...</td>\n",
              "      <td>...</td>\n",
              "      <td>...</td>\n",
              "      <td>...</td>\n",
              "    </tr>\n",
              "    <tr>\n",
              "      <th>63</th>\n",
              "      <td>1</td>\n",
              "      <td>2017</td>\n",
              "      <td>30</td>\n",
              "      <td>46.0</td>\n",
              "    </tr>\n",
              "    <tr>\n",
              "      <th>64</th>\n",
              "      <td>1</td>\n",
              "      <td>2017</td>\n",
              "      <td>31</td>\n",
              "      <td>51.0</td>\n",
              "    </tr>\n",
              "    <tr>\n",
              "      <th>65</th>\n",
              "      <td>1</td>\n",
              "      <td>2017</td>\n",
              "      <td>32</td>\n",
              "      <td>57.0</td>\n",
              "    </tr>\n",
              "    <tr>\n",
              "      <th>66</th>\n",
              "      <td>1</td>\n",
              "      <td>2017</td>\n",
              "      <td>33</td>\n",
              "      <td>39.0</td>\n",
              "    </tr>\n",
              "    <tr>\n",
              "      <th>67</th>\n",
              "      <td>1</td>\n",
              "      <td>2017</td>\n",
              "      <td>34</td>\n",
              "      <td>65.0</td>\n",
              "    </tr>\n",
              "  </tbody>\n",
              "</table>\n",
              "<p>68 rows × 4 columns</p>\n",
              "</div>\n",
              "      <button class=\"colab-df-convert\" onclick=\"convertToInteractive('df-92448b5a-0435-43b4-9188-9216d080910f')\"\n",
              "              title=\"Convert this dataframe to an interactive table.\"\n",
              "              style=\"display:none;\">\n",
              "        \n",
              "  <svg xmlns=\"http://www.w3.org/2000/svg\" height=\"24px\"viewBox=\"0 0 24 24\"\n",
              "       width=\"24px\">\n",
              "    <path d=\"M0 0h24v24H0V0z\" fill=\"none\"/>\n",
              "    <path d=\"M18.56 5.44l.94 2.06.94-2.06 2.06-.94-2.06-.94-.94-2.06-.94 2.06-2.06.94zm-11 1L8.5 8.5l.94-2.06 2.06-.94-2.06-.94L8.5 2.5l-.94 2.06-2.06.94zm10 10l.94 2.06.94-2.06 2.06-.94-2.06-.94-.94-2.06-.94 2.06-2.06.94z\"/><path d=\"M17.41 7.96l-1.37-1.37c-.4-.4-.92-.59-1.43-.59-.52 0-1.04.2-1.43.59L10.3 9.45l-7.72 7.72c-.78.78-.78 2.05 0 2.83L4 21.41c.39.39.9.59 1.41.59.51 0 1.02-.2 1.41-.59l7.78-7.78 2.81-2.81c.8-.78.8-2.07 0-2.86zM5.41 20L4 18.59l7.72-7.72 1.47 1.35L5.41 20z\"/>\n",
              "  </svg>\n",
              "      </button>\n",
              "      \n",
              "  <style>\n",
              "    .colab-df-container {\n",
              "      display:flex;\n",
              "      flex-wrap:wrap;\n",
              "      gap: 12px;\n",
              "    }\n",
              "\n",
              "    .colab-df-convert {\n",
              "      background-color: #E8F0FE;\n",
              "      border: none;\n",
              "      border-radius: 50%;\n",
              "      cursor: pointer;\n",
              "      display: none;\n",
              "      fill: #1967D2;\n",
              "      height: 32px;\n",
              "      padding: 0 0 0 0;\n",
              "      width: 32px;\n",
              "    }\n",
              "\n",
              "    .colab-df-convert:hover {\n",
              "      background-color: #E2EBFA;\n",
              "      box-shadow: 0px 1px 2px rgba(60, 64, 67, 0.3), 0px 1px 3px 1px rgba(60, 64, 67, 0.15);\n",
              "      fill: #174EA6;\n",
              "    }\n",
              "\n",
              "    [theme=dark] .colab-df-convert {\n",
              "      background-color: #3B4455;\n",
              "      fill: #D2E3FC;\n",
              "    }\n",
              "\n",
              "    [theme=dark] .colab-df-convert:hover {\n",
              "      background-color: #434B5C;\n",
              "      box-shadow: 0px 1px 3px 1px rgba(0, 0, 0, 0.15);\n",
              "      filter: drop-shadow(0px 1px 2px rgba(0, 0, 0, 0.3));\n",
              "      fill: #FFFFFF;\n",
              "    }\n",
              "  </style>\n",
              "\n",
              "      <script>\n",
              "        const buttonEl =\n",
              "          document.querySelector('#df-92448b5a-0435-43b4-9188-9216d080910f button.colab-df-convert');\n",
              "        buttonEl.style.display =\n",
              "          google.colab.kernel.accessAllowed ? 'block' : 'none';\n",
              "\n",
              "        async function convertToInteractive(key) {\n",
              "          const element = document.querySelector('#df-92448b5a-0435-43b4-9188-9216d080910f');\n",
              "          const dataTable =\n",
              "            await google.colab.kernel.invokeFunction('convertToInteractive',\n",
              "                                                     [key], {});\n",
              "          if (!dataTable) return;\n",
              "\n",
              "          const docLinkHtml = 'Like what you see? Visit the ' +\n",
              "            '<a target=\"_blank\" href=https://colab.research.google.com/notebooks/data_table.ipynb>data table notebook</a>'\n",
              "            + ' to learn more about interactive tables.';\n",
              "          element.innerHTML = '';\n",
              "          dataTable['output_type'] = 'display_data';\n",
              "          await google.colab.output.renderOutput(dataTable, element);\n",
              "          const docLink = document.createElement('div');\n",
              "          docLink.innerHTML = docLinkHtml;\n",
              "          element.appendChild(docLink);\n",
              "        }\n",
              "      </script>\n",
              "    </div>\n",
              "  </div>\n",
              "  "
            ]
          },
          "metadata": {},
          "execution_count": 10
        }
      ]
    },
    {
      "cell_type": "code",
      "source": [
        "data.isnull().sum()"
      ],
      "metadata": {
        "colab": {
          "base_uri": "https://localhost:8080/"
        },
        "id": "NZ9genAmbIKR",
        "outputId": "cb930a02-1602-4201-b696-92ad6bf8e4ee"
      },
      "execution_count": null,
      "outputs": [
        {
          "output_type": "execute_result",
          "data": {
            "text/plain": [
              "Bulan                    0\n",
              " Tahun                   0\n",
              " Provinsi                0\n",
              "Jumlah Kelahiran Bayi    0\n",
              "dtype: int64"
            ]
          },
          "metadata": {},
          "execution_count": 11
        }
      ]
    },
    {
      "cell_type": "code",
      "source": [
        "from sklearn.preprocessing import MinMaxScaler\n",
        "\n",
        "ex = ['Bulan', 'Tahun', 'Provinsi', 'Jumlah Kelahiran Bayi']\n",
        "for i in data.columns:\n",
        "  if i not in ex:\n",
        "    scaler = MinMaxScaler()\n",
        "    data[i] = scaler.fit_transform(data[i].values.reshape(-1,1))\n",
        "\n",
        "data.head()"
      ],
      "metadata": {
        "colab": {
          "base_uri": "https://localhost:8080/",
          "height": 206
        },
        "id": "zl0MolQHw6L8",
        "outputId": "8d7721de-ec92-48d2-f29e-6ed77d5509d7"
      },
      "execution_count": null,
      "outputs": [
        {
          "output_type": "execute_result",
          "data": {
            "text/plain": [
              "   Bulan   Tahun   Provinsi  Jumlah Kelahiran Bayi\n",
              "0      1     0.0   0.000000                   25.0\n",
              "1      1     0.0   0.030303                   32.0\n",
              "2      1     0.0   0.060606                   26.0\n",
              "3      1     0.0   0.090909                   42.0\n",
              "4      1     0.0   0.121212                   75.0"
            ],
            "text/html": [
              "\n",
              "  <div id=\"df-816256ca-9270-4fdc-855b-bb26c31c381b\">\n",
              "    <div class=\"colab-df-container\">\n",
              "      <div>\n",
              "<style scoped>\n",
              "    .dataframe tbody tr th:only-of-type {\n",
              "        vertical-align: middle;\n",
              "    }\n",
              "\n",
              "    .dataframe tbody tr th {\n",
              "        vertical-align: top;\n",
              "    }\n",
              "\n",
              "    .dataframe thead th {\n",
              "        text-align: right;\n",
              "    }\n",
              "</style>\n",
              "<table border=\"1\" class=\"dataframe\">\n",
              "  <thead>\n",
              "    <tr style=\"text-align: right;\">\n",
              "      <th></th>\n",
              "      <th>Bulan</th>\n",
              "      <th>Tahun</th>\n",
              "      <th>Provinsi</th>\n",
              "      <th>Jumlah Kelahiran Bayi</th>\n",
              "    </tr>\n",
              "  </thead>\n",
              "  <tbody>\n",
              "    <tr>\n",
              "      <th>0</th>\n",
              "      <td>1</td>\n",
              "      <td>0.0</td>\n",
              "      <td>0.000000</td>\n",
              "      <td>25.0</td>\n",
              "    </tr>\n",
              "    <tr>\n",
              "      <th>1</th>\n",
              "      <td>1</td>\n",
              "      <td>0.0</td>\n",
              "      <td>0.030303</td>\n",
              "      <td>32.0</td>\n",
              "    </tr>\n",
              "    <tr>\n",
              "      <th>2</th>\n",
              "      <td>1</td>\n",
              "      <td>0.0</td>\n",
              "      <td>0.060606</td>\n",
              "      <td>26.0</td>\n",
              "    </tr>\n",
              "    <tr>\n",
              "      <th>3</th>\n",
              "      <td>1</td>\n",
              "      <td>0.0</td>\n",
              "      <td>0.090909</td>\n",
              "      <td>42.0</td>\n",
              "    </tr>\n",
              "    <tr>\n",
              "      <th>4</th>\n",
              "      <td>1</td>\n",
              "      <td>0.0</td>\n",
              "      <td>0.121212</td>\n",
              "      <td>75.0</td>\n",
              "    </tr>\n",
              "  </tbody>\n",
              "</table>\n",
              "</div>\n",
              "      <button class=\"colab-df-convert\" onclick=\"convertToInteractive('df-816256ca-9270-4fdc-855b-bb26c31c381b')\"\n",
              "              title=\"Convert this dataframe to an interactive table.\"\n",
              "              style=\"display:none;\">\n",
              "        \n",
              "  <svg xmlns=\"http://www.w3.org/2000/svg\" height=\"24px\"viewBox=\"0 0 24 24\"\n",
              "       width=\"24px\">\n",
              "    <path d=\"M0 0h24v24H0V0z\" fill=\"none\"/>\n",
              "    <path d=\"M18.56 5.44l.94 2.06.94-2.06 2.06-.94-2.06-.94-.94-2.06-.94 2.06-2.06.94zm-11 1L8.5 8.5l.94-2.06 2.06-.94-2.06-.94L8.5 2.5l-.94 2.06-2.06.94zm10 10l.94 2.06.94-2.06 2.06-.94-2.06-.94-.94-2.06-.94 2.06-2.06.94z\"/><path d=\"M17.41 7.96l-1.37-1.37c-.4-.4-.92-.59-1.43-.59-.52 0-1.04.2-1.43.59L10.3 9.45l-7.72 7.72c-.78.78-.78 2.05 0 2.83L4 21.41c.39.39.9.59 1.41.59.51 0 1.02-.2 1.41-.59l7.78-7.78 2.81-2.81c.8-.78.8-2.07 0-2.86zM5.41 20L4 18.59l7.72-7.72 1.47 1.35L5.41 20z\"/>\n",
              "  </svg>\n",
              "      </button>\n",
              "      \n",
              "  <style>\n",
              "    .colab-df-container {\n",
              "      display:flex;\n",
              "      flex-wrap:wrap;\n",
              "      gap: 12px;\n",
              "    }\n",
              "\n",
              "    .colab-df-convert {\n",
              "      background-color: #E8F0FE;\n",
              "      border: none;\n",
              "      border-radius: 50%;\n",
              "      cursor: pointer;\n",
              "      display: none;\n",
              "      fill: #1967D2;\n",
              "      height: 32px;\n",
              "      padding: 0 0 0 0;\n",
              "      width: 32px;\n",
              "    }\n",
              "\n",
              "    .colab-df-convert:hover {\n",
              "      background-color: #E2EBFA;\n",
              "      box-shadow: 0px 1px 2px rgba(60, 64, 67, 0.3), 0px 1px 3px 1px rgba(60, 64, 67, 0.15);\n",
              "      fill: #174EA6;\n",
              "    }\n",
              "\n",
              "    [theme=dark] .colab-df-convert {\n",
              "      background-color: #3B4455;\n",
              "      fill: #D2E3FC;\n",
              "    }\n",
              "\n",
              "    [theme=dark] .colab-df-convert:hover {\n",
              "      background-color: #434B5C;\n",
              "      box-shadow: 0px 1px 3px 1px rgba(0, 0, 0, 0.15);\n",
              "      filter: drop-shadow(0px 1px 2px rgba(0, 0, 0, 0.3));\n",
              "      fill: #FFFFFF;\n",
              "    }\n",
              "  </style>\n",
              "\n",
              "      <script>\n",
              "        const buttonEl =\n",
              "          document.querySelector('#df-816256ca-9270-4fdc-855b-bb26c31c381b button.colab-df-convert');\n",
              "        buttonEl.style.display =\n",
              "          google.colab.kernel.accessAllowed ? 'block' : 'none';\n",
              "\n",
              "        async function convertToInteractive(key) {\n",
              "          const element = document.querySelector('#df-816256ca-9270-4fdc-855b-bb26c31c381b');\n",
              "          const dataTable =\n",
              "            await google.colab.kernel.invokeFunction('convertToInteractive',\n",
              "                                                     [key], {});\n",
              "          if (!dataTable) return;\n",
              "\n",
              "          const docLinkHtml = 'Like what you see? Visit the ' +\n",
              "            '<a target=\"_blank\" href=https://colab.research.google.com/notebooks/data_table.ipynb>data table notebook</a>'\n",
              "            + ' to learn more about interactive tables.';\n",
              "          element.innerHTML = '';\n",
              "          dataTable['output_type'] = 'display_data';\n",
              "          await google.colab.output.renderOutput(dataTable, element);\n",
              "          const docLink = document.createElement('div');\n",
              "          docLink.innerHTML = docLinkHtml;\n",
              "          element.appendChild(docLink);\n",
              "        }\n",
              "      </script>\n",
              "    </div>\n",
              "  </div>\n",
              "  "
            ]
          },
          "metadata": {},
          "execution_count": 105
        }
      ]
    },
    {
      "cell_type": "markdown",
      "source": [
        "Feature Selection"
      ],
      "metadata": {
        "id": "tJVJnD3vPbbk"
      }
    },
    {
      "cell_type": "code",
      "source": [
        "x = data.iloc[:,0:-1].values\n",
        "y = data.iloc[:,-1].values\n",
        "print(x.shape)\n",
        "print(y.shape)"
      ],
      "metadata": {
        "colab": {
          "base_uri": "https://localhost:8080/"
        },
        "id": "ZP5WYlrnfQiQ",
        "outputId": "e3c282d5-1cec-4e15-d153-5dede3aefdb8"
      },
      "execution_count": null,
      "outputs": [
        {
          "output_type": "stream",
          "name": "stdout",
          "text": [
            "(68, 3)\n",
            "(68,)\n"
          ]
        }
      ]
    },
    {
      "cell_type": "markdown",
      "source": [
        "Pembagian dataset train-test"
      ],
      "metadata": {
        "id": "4xDDXbYsgpmj"
      }
    },
    {
      "cell_type": "code",
      "source": [
        "from sklearn.model_selection import train_test_split\n",
        "\n",
        "x_latih, x_uji, y_latih, y_uji = train_test_split(x,y,train_size=0.8,random_state=0)"
      ],
      "metadata": {
        "id": "UTJcqgxRgvtg"
      },
      "execution_count": null,
      "outputs": []
    },
    {
      "cell_type": "markdown",
      "source": [
        "# Modelling"
      ],
      "metadata": {
        "id": "68ZvpVHBkIOW"
      }
    },
    {
      "cell_type": "markdown",
      "source": [
        "Pembuatan Arsitektur"
      ],
      "metadata": {
        "id": "l9wFsk9eLBVR"
      }
    },
    {
      "cell_type": "code",
      "source": [
        "import tensorflow as tf\n",
        "model=tf.keras.models.Sequential([])\n",
        "model.add(tf.keras.layers.Dense(units=2,activation='relu',input_shape=(3,)))\n",
        "model.add(tf.keras.layers.Dense(units=1))\n",
        "\n",
        "model.compile(loss='mean_absolute_error',optimizer=tf.keras.optimizers.Adam(0.01))"
      ],
      "metadata": {
        "id": "YCiAtcTyjVcx"
      },
      "execution_count": null,
      "outputs": []
    },
    {
      "cell_type": "markdown",
      "source": [
        "Training"
      ],
      "metadata": {
        "id": "qe7sS-8YLdJc"
      }
    },
    {
      "cell_type": "code",
      "source": [
        "  model.fit(x_latih, y_latih, epochs=100)"
      ],
      "metadata": {
        "colab": {
          "base_uri": "https://localhost:8080/"
        },
        "id": "-a6VZaBuLYkk",
        "outputId": "c7a5a7a1-52fa-49f1-be00-9baba95867d0"
      },
      "execution_count": null,
      "outputs": [
        {
          "output_type": "stream",
          "name": "stdout",
          "text": [
            "Epoch 1/100\n",
            "2/2 [==============================] - 0s 7ms/step - loss: 48.1155\n",
            "Epoch 2/100\n",
            "2/2 [==============================] - 0s 6ms/step - loss: 47.9726\n",
            "Epoch 3/100\n",
            "2/2 [==============================] - 0s 7ms/step - loss: 47.8357\n",
            "Epoch 4/100\n",
            "2/2 [==============================] - 0s 10ms/step - loss: 47.6985\n",
            "Epoch 5/100\n",
            "2/2 [==============================] - 0s 9ms/step - loss: 47.5631\n",
            "Epoch 6/100\n",
            "2/2 [==============================] - 0s 7ms/step - loss: 47.4236\n",
            "Epoch 7/100\n",
            "2/2 [==============================] - 0s 8ms/step - loss: 47.2894\n",
            "Epoch 8/100\n",
            "2/2 [==============================] - 0s 7ms/step - loss: 47.1527\n",
            "Epoch 9/100\n",
            "2/2 [==============================] - 0s 7ms/step - loss: 47.0187\n",
            "Epoch 10/100\n",
            "2/2 [==============================] - 0s 6ms/step - loss: 46.8847\n",
            "Epoch 11/100\n",
            "2/2 [==============================] - 0s 6ms/step - loss: 46.7477\n",
            "Epoch 12/100\n",
            "2/2 [==============================] - 0s 5ms/step - loss: 46.6134\n",
            "Epoch 13/100\n",
            "2/2 [==============================] - 0s 7ms/step - loss: 46.4710\n",
            "Epoch 14/100\n",
            "2/2 [==============================] - 0s 7ms/step - loss: 46.3299\n",
            "Epoch 15/100\n",
            "2/2 [==============================] - 0s 4ms/step - loss: 46.1897\n",
            "Epoch 16/100\n",
            "2/2 [==============================] - 0s 4ms/step - loss: 46.0421\n",
            "Epoch 17/100\n",
            "2/2 [==============================] - 0s 6ms/step - loss: 45.8948\n",
            "Epoch 18/100\n",
            "2/2 [==============================] - 0s 7ms/step - loss: 45.7425\n",
            "Epoch 19/100\n",
            "2/2 [==============================] - 0s 9ms/step - loss: 45.5891\n",
            "Epoch 20/100\n",
            "2/2 [==============================] - 0s 6ms/step - loss: 45.4286\n",
            "Epoch 21/100\n",
            "2/2 [==============================] - 0s 9ms/step - loss: 45.2683\n",
            "Epoch 22/100\n",
            "2/2 [==============================] - 0s 6ms/step - loss: 45.1033\n",
            "Epoch 23/100\n",
            "2/2 [==============================] - 0s 9ms/step - loss: 44.9328\n",
            "Epoch 24/100\n",
            "2/2 [==============================] - 0s 6ms/step - loss: 44.7611\n",
            "Epoch 25/100\n",
            "2/2 [==============================] - 0s 5ms/step - loss: 44.5829\n",
            "Epoch 26/100\n",
            "2/2 [==============================] - 0s 8ms/step - loss: 44.3998\n",
            "Epoch 27/100\n",
            "2/2 [==============================] - 0s 6ms/step - loss: 44.2120\n",
            "Epoch 28/100\n",
            "2/2 [==============================] - 0s 8ms/step - loss: 44.0231\n",
            "Epoch 29/100\n",
            "2/2 [==============================] - 0s 5ms/step - loss: 43.8265\n",
            "Epoch 30/100\n",
            "2/2 [==============================] - 0s 9ms/step - loss: 43.6262\n",
            "Epoch 31/100\n",
            "2/2 [==============================] - 0s 5ms/step - loss: 43.4208\n",
            "Epoch 32/100\n",
            "2/2 [==============================] - 0s 5ms/step - loss: 43.2115\n",
            "Epoch 33/100\n",
            "2/2 [==============================] - 0s 5ms/step - loss: 42.9955\n",
            "Epoch 34/100\n",
            "2/2 [==============================] - 0s 4ms/step - loss: 42.7735\n",
            "Epoch 35/100\n",
            "2/2 [==============================] - 0s 9ms/step - loss: 42.5489\n",
            "Epoch 36/100\n",
            "2/2 [==============================] - 0s 4ms/step - loss: 42.3209\n",
            "Epoch 37/100\n",
            "2/2 [==============================] - 0s 5ms/step - loss: 42.0816\n",
            "Epoch 38/100\n",
            "2/2 [==============================] - 0s 8ms/step - loss: 41.8457\n",
            "Epoch 39/100\n",
            "2/2 [==============================] - 0s 4ms/step - loss: 41.5994\n",
            "Epoch 40/100\n",
            "2/2 [==============================] - 0s 4ms/step - loss: 41.3455\n",
            "Epoch 41/100\n",
            "2/2 [==============================] - 0s 4ms/step - loss: 41.0913\n",
            "Epoch 42/100\n",
            "2/2 [==============================] - 0s 4ms/step - loss: 40.8299\n",
            "Epoch 43/100\n",
            "2/2 [==============================] - 0s 4ms/step - loss: 40.5612\n",
            "Epoch 44/100\n",
            "2/2 [==============================] - 0s 4ms/step - loss: 40.2893\n",
            "Epoch 45/100\n",
            "2/2 [==============================] - 0s 8ms/step - loss: 40.0148\n",
            "Epoch 46/100\n",
            "2/2 [==============================] - 0s 4ms/step - loss: 39.7312\n",
            "Epoch 47/100\n",
            "2/2 [==============================] - 0s 5ms/step - loss: 39.4445\n",
            "Epoch 48/100\n",
            "2/2 [==============================] - 0s 4ms/step - loss: 39.1444\n",
            "Epoch 49/100\n",
            "2/2 [==============================] - 0s 4ms/step - loss: 38.8500\n",
            "Epoch 50/100\n",
            "2/2 [==============================] - 0s 5ms/step - loss: 38.5428\n",
            "Epoch 51/100\n",
            "2/2 [==============================] - 0s 5ms/step - loss: 38.2398\n",
            "Epoch 52/100\n",
            "2/2 [==============================] - 0s 5ms/step - loss: 37.9160\n",
            "Epoch 53/100\n",
            "2/2 [==============================] - 0s 4ms/step - loss: 37.5970\n",
            "Epoch 54/100\n",
            "2/2 [==============================] - 0s 6ms/step - loss: 37.2724\n",
            "Epoch 55/100\n",
            "2/2 [==============================] - 0s 5ms/step - loss: 36.9358\n",
            "Epoch 56/100\n",
            "2/2 [==============================] - 0s 12ms/step - loss: 36.5985\n",
            "Epoch 57/100\n",
            "2/2 [==============================] - 0s 5ms/step - loss: 36.2547\n",
            "Epoch 58/100\n",
            "2/2 [==============================] - 0s 5ms/step - loss: 35.9096\n",
            "Epoch 59/100\n",
            "2/2 [==============================] - 0s 5ms/step - loss: 35.5550\n",
            "Epoch 60/100\n",
            "2/2 [==============================] - 0s 5ms/step - loss: 35.2201\n",
            "Epoch 61/100\n",
            "2/2 [==============================] - 0s 5ms/step - loss: 34.8645\n",
            "Epoch 62/100\n",
            "2/2 [==============================] - 0s 12ms/step - loss: 34.5242\n",
            "Epoch 63/100\n",
            "2/2 [==============================] - 0s 5ms/step - loss: 34.1958\n",
            "Epoch 64/100\n",
            "2/2 [==============================] - 0s 12ms/step - loss: 33.8450\n",
            "Epoch 65/100\n",
            "2/2 [==============================] - 0s 11ms/step - loss: 33.5004\n",
            "Epoch 66/100\n",
            "2/2 [==============================] - 0s 6ms/step - loss: 33.1544\n",
            "Epoch 67/100\n",
            "2/2 [==============================] - 0s 5ms/step - loss: 32.8117\n",
            "Epoch 68/100\n",
            "2/2 [==============================] - 0s 6ms/step - loss: 32.4527\n",
            "Epoch 69/100\n",
            "2/2 [==============================] - 0s 10ms/step - loss: 32.0960\n",
            "Epoch 70/100\n",
            "2/2 [==============================] - 0s 6ms/step - loss: 31.7282\n",
            "Epoch 71/100\n",
            "2/2 [==============================] - 0s 6ms/step - loss: 31.3719\n",
            "Epoch 72/100\n",
            "2/2 [==============================] - 0s 8ms/step - loss: 31.0143\n",
            "Epoch 73/100\n",
            "2/2 [==============================] - 0s 8ms/step - loss: 30.6704\n",
            "Epoch 74/100\n",
            "2/2 [==============================] - 0s 9ms/step - loss: 30.3540\n",
            "Epoch 75/100\n",
            "2/2 [==============================] - 0s 6ms/step - loss: 30.0302\n",
            "Epoch 76/100\n",
            "2/2 [==============================] - 0s 8ms/step - loss: 29.7374\n",
            "Epoch 77/100\n",
            "2/2 [==============================] - 0s 5ms/step - loss: 29.4389\n",
            "Epoch 78/100\n",
            "2/2 [==============================] - 0s 12ms/step - loss: 29.1453\n",
            "Epoch 79/100\n",
            "2/2 [==============================] - 0s 7ms/step - loss: 28.8339\n",
            "Epoch 80/100\n",
            "2/2 [==============================] - 0s 6ms/step - loss: 28.5340\n",
            "Epoch 81/100\n",
            "2/2 [==============================] - 0s 7ms/step - loss: 28.2588\n",
            "Epoch 82/100\n",
            "2/2 [==============================] - 0s 6ms/step - loss: 27.9484\n",
            "Epoch 83/100\n",
            "2/2 [==============================] - 0s 6ms/step - loss: 27.6441\n",
            "Epoch 84/100\n",
            "2/2 [==============================] - 0s 6ms/step - loss: 27.3412\n",
            "Epoch 85/100\n",
            "2/2 [==============================] - 0s 7ms/step - loss: 27.0357\n",
            "Epoch 86/100\n",
            "2/2 [==============================] - 0s 7ms/step - loss: 26.7333\n",
            "Epoch 87/100\n",
            "2/2 [==============================] - 0s 6ms/step - loss: 26.4588\n",
            "Epoch 88/100\n",
            "2/2 [==============================] - 0s 8ms/step - loss: 26.1454\n",
            "Epoch 89/100\n",
            "2/2 [==============================] - 0s 11ms/step - loss: 25.8701\n",
            "Epoch 90/100\n",
            "2/2 [==============================] - 0s 7ms/step - loss: 25.5672\n",
            "Epoch 91/100\n",
            "2/2 [==============================] - 0s 6ms/step - loss: 25.2758\n",
            "Epoch 92/100\n",
            "2/2 [==============================] - 0s 7ms/step - loss: 24.9989\n",
            "Epoch 93/100\n",
            "2/2 [==============================] - 0s 5ms/step - loss: 24.7164\n",
            "Epoch 94/100\n",
            "2/2 [==============================] - 0s 6ms/step - loss: 24.4270\n",
            "Epoch 95/100\n",
            "2/2 [==============================] - 0s 6ms/step - loss: 24.1693\n",
            "Epoch 96/100\n",
            "2/2 [==============================] - 0s 26ms/step - loss: 23.9166\n",
            "Epoch 97/100\n",
            "2/2 [==============================] - 0s 6ms/step - loss: 23.6663\n",
            "Epoch 98/100\n",
            "2/2 [==============================] - 0s 12ms/step - loss: 23.4082\n",
            "Epoch 99/100\n",
            "2/2 [==============================] - 0s 8ms/step - loss: 23.1660\n",
            "Epoch 100/100\n",
            "2/2 [==============================] - 0s 5ms/step - loss: 22.9214\n"
          ]
        },
        {
          "output_type": "execute_result",
          "data": {
            "text/plain": [
              "<keras.callbacks.History at 0x7fbab1985e50>"
            ]
          },
          "metadata": {},
          "execution_count": 109
        }
      ]
    },
    {
      "cell_type": "code",
      "source": [
        "model.summary()"
      ],
      "metadata": {
        "colab": {
          "base_uri": "https://localhost:8080/"
        },
        "id": "MVJTUDWX2UFI",
        "outputId": "d8851b89-8db2-4a1b-8b33-9be926cb2613"
      },
      "execution_count": null,
      "outputs": [
        {
          "output_type": "stream",
          "name": "stdout",
          "text": [
            "Model: \"sequential_28\"\n",
            "_________________________________________________________________\n",
            " Layer (type)                Output Shape              Param #   \n",
            "=================================================================\n",
            " dense_60 (Dense)            (None, 2)                 8         \n",
            "                                                                 \n",
            " dense_61 (Dense)            (None, 1)                 3         \n",
            "                                                                 \n",
            "=================================================================\n",
            "Total params: 11\n",
            "Trainable params: 11\n",
            "Non-trainable params: 0\n",
            "_________________________________________________________________\n"
          ]
        }
      ]
    },
    {
      "cell_type": "markdown",
      "source": [
        "Evaluasi"
      ],
      "metadata": {
        "id": "dNEZu1ARvAXT"
      }
    },
    {
      "cell_type": "code",
      "source": [
        "model.evaluate(x_latih,y_latih)"
      ],
      "metadata": {
        "colab": {
          "base_uri": "https://localhost:8080/"
        },
        "id": "Osa9ArkTuXrh",
        "outputId": "8a496379-4903-44b6-c930-1dd6c2128aa9"
      },
      "execution_count": null,
      "outputs": [
        {
          "output_type": "stream",
          "name": "stdout",
          "text": [
            "2/2 [==============================] - 0s 6ms/step - loss: 22.7069\n"
          ]
        },
        {
          "output_type": "execute_result",
          "data": {
            "text/plain": [
              "22.70693588256836"
            ]
          },
          "metadata": {},
          "execution_count": 123
        }
      ]
    },
    {
      "cell_type": "code",
      "source": [
        "import matplotlib.pyplot as plt\n",
        "\n",
        "hasil=model.predict(x_uji)\n",
        "a=range(len(y_uji))\n",
        "\n",
        "plt.scatter(a,hasil,color='blue')\n",
        "plt.scatter(a,y_uji,color='purple')\n",
        "plt.title(\"Hasil prediksi kelahiran bayi aktual-data uji \")\n",
        "plt.xlabel(\"Data latih\")\n",
        "plt.ylabel(\"Kelahiran Bayi\")\n",
        "plt.show()"
      ],
      "metadata": {
        "colab": {
          "base_uri": "https://localhost:8080/",
          "height": 313
        },
        "id": "pZBbIAmhu_rK",
        "outputId": "f52a2794-86bf-4b46-83ed-d98cc28e677f"
      },
      "execution_count": null,
      "outputs": [
        {
          "output_type": "stream",
          "name": "stdout",
          "text": [
            "1/1 [==============================] - 0s 26ms/step\n"
          ]
        },
        {
          "output_type": "display_data",
          "data": {
            "text/plain": [
              "<Figure size 432x288 with 1 Axes>"
            ],
            "image/png": "[encoded data removed]"
          },
          "metadata": {
            "needs_background": "light"
          }
        }
      ]
    }
  ]
}